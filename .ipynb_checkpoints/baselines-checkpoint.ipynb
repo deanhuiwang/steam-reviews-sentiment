{
 "cells": [
  {
   "cell_type": "markdown",
   "metadata": {},
   "source": [
    "# Baselines\n",
    "This notebook takes the preprocessed steam reviews data, fits the baseline models based on training data, and evaluates the models."
   ]
  },
  {
   "cell_type": "code",
   "execution_count": 1,
   "metadata": {},
   "outputs": [],
   "source": [
    "from sklearn.naive_bayes import GaussianNB\n",
    "from sklearn.svm import SVC\n",
    "from sklearn.metrics import accuracy_score, precision_score, recall_score, f1_score\n",
    "import pandas as pd\n",
    "import numpy as np\n",
    "import tensorflow as tf\n",
    "import tensorflow_hub as hub\n",
    "import math"
   ]
  },
  {
   "cell_type": "code",
   "execution_count": 2,
   "metadata": {},
   "outputs": [
    {
     "data": {
      "text/html": [
       "<div>\n",
       "<style scoped>\n",
       "    .dataframe tbody tr th:only-of-type {\n",
       "        vertical-align: middle;\n",
       "    }\n",
       "\n",
       "    .dataframe tbody tr th {\n",
       "        vertical-align: top;\n",
       "    }\n",
       "\n",
       "    .dataframe thead th {\n",
       "        text-align: right;\n",
       "    }\n",
       "</style>\n",
       "<table border=\"1\" class=\"dataframe\">\n",
       "  <thead>\n",
       "    <tr style=\"text-align: right;\">\n",
       "      <th></th>\n",
       "      <th>Review</th>\n",
       "      <th>Sentiment</th>\n",
       "    </tr>\n",
       "  </thead>\n",
       "  <tbody>\n",
       "    <tr>\n",
       "      <td>0</td>\n",
       "      <td>an amazing game but your probably better off b...</td>\n",
       "      <td>1.0</td>\n",
       "    </tr>\n",
       "    <tr>\n",
       "      <td>1</td>\n",
       "      <td>great game in which you can also shoot some co...</td>\n",
       "      <td>1.0</td>\n",
       "    </tr>\n",
       "    <tr>\n",
       "      <td>2</td>\n",
       "      <td>because this is not ripping off agaric</td>\n",
       "      <td>0.0</td>\n",
       "    </tr>\n",
       "    <tr>\n",
       "      <td>3</td>\n",
       "      <td>if you are looking for a rift racer this is a ...</td>\n",
       "      <td>1.0</td>\n",
       "    </tr>\n",
       "    <tr>\n",
       "      <td>4</td>\n",
       "      <td>played on and fax and rob ram mhz default ultr...</td>\n",
       "      <td>1.0</td>\n",
       "    </tr>\n",
       "  </tbody>\n",
       "</table>\n",
       "</div>"
      ],
      "text/plain": [
       "                                              Review  Sentiment\n",
       "0  an amazing game but your probably better off b...        1.0\n",
       "1  great game in which you can also shoot some co...        1.0\n",
       "2             because this is not ripping off agaric        0.0\n",
       "3  if you are looking for a rift racer this is a ...        1.0\n",
       "4  played on and fax and rob ram mhz default ultr...        1.0"
      ]
     },
     "execution_count": 2,
     "metadata": {},
     "output_type": "execute_result"
    }
   ],
   "source": [
    "# read in preprocessed and split datasets\n",
    "train_df = pd.read_csv(\"data/steam_processed_with_spelling_train.csv\")\n",
    "dev_df = pd.read_csv(\"data/steam_processed_with_spelling_dev.csv\")\n",
    "test_df = pd.read_csv(\"data/steam_processed_with_spelling_test.csv\")\n",
    "train_df.head()"
   ]
  },
  {
   "cell_type": "code",
   "execution_count": 3,
   "metadata": {},
   "outputs": [],
   "source": [
    "# replace null reviews with null strings\n",
    "train_df.loc[train_df[\"Review\"].isnull(), 'Review'] = \"\"\n",
    "dev_df.loc[dev_df[\"Review\"].isnull(), 'Review'] = \"\"\n",
    "test_df.loc[test_df[\"Review\"].isnull(), 'Review'] = \"\""
   ]
  },
  {
   "cell_type": "code",
   "execution_count": 4,
   "metadata": {},
   "outputs": [],
   "source": [
    "# download the USE model\n",
    "embed = hub.load(\"https://tfhub.dev/google/universal-sentence-encoder/4\")"
   ]
  },
  {
   "cell_type": "code",
   "execution_count": 5,
   "metadata": {},
   "outputs": [],
   "source": [
    "# create function to generate embeddings\n",
    "def generate_embeddings(text_list, model):\n",
    "\n",
    "    embeddings_exists = False\n",
    "\n",
    "    # it may take too much memory to generate all\n",
    "    # embeddings at once. Split into chunks of 1000\n",
    "    for i in range(math.ceil(len(text_list)/1000)):\n",
    "        chunk = text_list[i*1000:i*1000+1000]\n",
    "\n",
    "        if not embeddings_exists:\n",
    "            embeddings = model(chunk)\n",
    "            embeddings_exists = True\n",
    "        else:\n",
    "            embeddings = tf.concat([embeddings, model(chunk)], 0)\n",
    "    \n",
    "    return embeddings"
   ]
  },
  {
   "cell_type": "code",
   "execution_count": null,
   "metadata": {},
   "outputs": [],
   "source": [
    "# generate embeddings for datasets\n",
    "train_embeddings = generate_embeddings(train_df[\"Review\"].tolist(), embed).numpy()\n",
    "dev_embeddings = generate_embeddings(dev_df[\"Review\"].tolist(), embed).numpy()\n",
    "test_embeddings = generate_embeddings(test_df[\"Review\"].tolist(), embed).numpy()"
   ]
  },
  {
   "cell_type": "markdown",
   "metadata": {},
   "source": [
    "## Gaussian Naive Bayes\n",
    "Fit the Gaussian Naive Bayes model to the training data and evaluate."
   ]
  },
  {
   "cell_type": "code",
   "execution_count": null,
   "metadata": {},
   "outputs": [],
   "source": [
    "# Fit Gaussian Naive Bayes and score predictions\n",
    "gnb = GaussianNB()\n",
    "gnb.fit(train_embeddings, train_df[\"Sentiment\"])\n",
    "dev_predictions = gnb.predict(dev_embeddings)\n",
    "print(\"Accuracy: {}\".format(accuracy_score(dev_df[\"Sentiment\"], dev_predictions)))\n",
    "print(\"Precision: {}\".format(precision_score(dev_df[\"Sentiment\"], dev_predictions)))\n",
    "print(\"Recall: {}\".format(recall_score(dev_df[\"Sentiment\"], dev_predictions)))\n",
    "print(\"F1: {}\".format(f1_score(dev_df[\"Sentiment\"], dev_predictions)))"
   ]
  },
  {
   "cell_type": "markdown",
   "metadata": {},
   "source": [
    "## Support Vector Machine\n",
    "Fit the support vector machine model to the training data and evaluate."
   ]
  },
  {
   "cell_type": "code",
   "execution_count": null,
   "metadata": {},
   "outputs": [],
   "source": [
    "# Fit support vector machine and score predictions\n",
    "svm = SVC()\n",
    "svm.fit(train_embeddings, train_df[\"Sentiment\"])\n",
    "dev_predictions = svm.predict(dev_embeddings)\n",
    "print(\"Accuracy: {}\".format(accuracy_score(dev_df[\"Sentiment\"], dev_predictions)))\n",
    "print(\"Precision: {}\".format(precision_score(dev_df[\"Sentiment\"], dev_predictions)))\n",
    "print(\"Recall: {}\".format(recall_score(dev_df[\"Sentiment\"], dev_predictions)))\n",
    "print(\"F1: {}\".format(f1_score(dev_df[\"Sentiment\"], dev_predictions)))"
   ]
  },
  {
   "cell_type": "code",
   "execution_count": null,
   "metadata": {},
   "outputs": [],
   "source": []
  }
 ],
 "metadata": {
  "kernelspec": {
   "display_name": "Python 3",
   "language": "python",
   "name": "python3"
  },
  "language_info": {
   "codemirror_mode": {
    "name": "ipython",
    "version": 3
   },
   "file_extension": ".py",
   "mimetype": "text/x-python",
   "name": "python",
   "nbconvert_exporter": "python",
   "pygments_lexer": "ipython3",
   "version": "3.7.4"
  }
 },
 "nbformat": 4,
 "nbformat_minor": 2
}
