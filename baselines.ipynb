{
 "cells": [
  {
   "cell_type": "markdown",
   "metadata": {},
   "source": [
    "# Baselines\n",
    "This notebook takes the preprocessed steam reviews data, fits the baseline models based on training data, and evaluates the models."
   ]
  },
  {
   "cell_type": "code",
   "execution_count": 1,
   "metadata": {},
   "outputs": [],
   "source": [
    "from sklearn.naive_bayes import GaussianNB\n",
    "from sklearn.svm import SVC\n",
    "from sklearn.metrics import accuracy_score, precision_score, recall_score, f1_score\n",
    "import pandas as pd\n",
    "import numpy as np\n",
    "import tensorflow as tf\n",
    "import tensorflow_hub as hub\n",
    "import math"
   ]
  },
  {
   "cell_type": "code",
   "execution_count": 2,
   "metadata": {},
   "outputs": [
    {
     "data": {
      "text/html": [
       "<div>\n",
       "<style scoped>\n",
       "    .dataframe tbody tr th:only-of-type {\n",
       "        vertical-align: middle;\n",
       "    }\n",
       "\n",
       "    .dataframe tbody tr th {\n",
       "        vertical-align: top;\n",
       "    }\n",
       "\n",
       "    .dataframe thead th {\n",
       "        text-align: right;\n",
       "    }\n",
       "</style>\n",
       "<table border=\"1\" class=\"dataframe\">\n",
       "  <thead>\n",
       "    <tr style=\"text-align: right;\">\n",
       "      <th></th>\n",
       "      <th>Review</th>\n",
       "      <th>Sentiment</th>\n",
       "    </tr>\n",
       "  </thead>\n",
       "  <tbody>\n",
       "    <tr>\n",
       "      <th>0</th>\n",
       "      <td>ruined my life</td>\n",
       "      <td>1.0</td>\n",
       "    </tr>\n",
       "    <tr>\n",
       "      <th>1</th>\n",
       "      <td>this game saved my virginity</td>\n",
       "      <td>1.0</td>\n",
       "    </tr>\n",
       "    <tr>\n",
       "      <th>2</th>\n",
       "      <td>do you like original games do you like games t...</td>\n",
       "      <td>1.0</td>\n",
       "    </tr>\n",
       "    <tr>\n",
       "      <th>3</th>\n",
       "      <td>easy to learn hard to master</td>\n",
       "      <td>1.0</td>\n",
       "    </tr>\n",
       "    <tr>\n",
       "      <th>4</th>\n",
       "      <td>nor revolver will play again</td>\n",
       "      <td>1.0</td>\n",
       "    </tr>\n",
       "  </tbody>\n",
       "</table>\n",
       "</div>"
      ],
      "text/plain": [
       "                                              Review  Sentiment\n",
       "0                                     ruined my life        1.0\n",
       "1                       this game saved my virginity        1.0\n",
       "2  do you like original games do you like games t...        1.0\n",
       "3                       easy to learn hard to master        1.0\n",
       "4                       nor revolver will play again        1.0"
      ]
     },
     "execution_count": 2,
     "metadata": {},
     "output_type": "execute_result"
    }
   ],
   "source": [
    "# read in preprocessed and split datasets\n",
    "train_df = pd.read_csv(\"steam_sample_train.csv\")\n",
    "dev_df = pd.read_csv(\"steam_sample_dev.csv\")\n",
    "test_df = pd.read_csv(\"steam_sample_test.csv\")\n",
    "train_df.head()"
   ]
  },
  {
   "cell_type": "code",
   "execution_count": 3,
   "metadata": {},
   "outputs": [],
   "source": [
    "# replace null reviews with null strings\n",
    "train_df.loc[train_df[\"Review\"].isnull(), 'Review'] = \"\"\n",
    "dev_df.loc[dev_df[\"Review\"].isnull(), 'Review'] = \"\"\n",
    "test_df.loc[test_df[\"Review\"].isnull(), 'Review'] = \"\""
   ]
  },
  {
   "cell_type": "code",
   "execution_count": 4,
   "metadata": {},
   "outputs": [],
   "source": [
    "# download the USE model\n",
    "embed = hub.load(\"https://tfhub.dev/google/universal-sentence-encoder/4\")"
   ]
  },
  {
   "cell_type": "code",
   "execution_count": 5,
   "metadata": {},
   "outputs": [],
   "source": [
    "# create function to generate embeddings\n",
    "def generate_embeddings(text_list, model):\n",
    "\n",
    "    embeddings_exists = False\n",
    "\n",
    "    # it may take too much memory to generate all\n",
    "    # embeddings at once. Split into chunks of 1000\n",
    "    for i in range(math.ceil(len(text_list)/1000)):\n",
    "        chunk = text_list[i*1000:i*1000+1000]\n",
    "\n",
    "        if not embeddings_exists:\n",
    "            embeddings = model(chunk)\n",
    "            embeddings_exists = True\n",
    "        else:\n",
    "            embeddings = tf.concat([embeddings, model(chunk)], 0)\n",
    "    \n",
    "    return embeddings"
   ]
  },
  {
   "cell_type": "code",
   "execution_count": 6,
   "metadata": {},
   "outputs": [],
   "source": [
    "# generate embeddings for datasets\n",
    "train_embeddings = generate_embeddings(train_df[\"Review\"].tolist(), embed).numpy()\n",
    "dev_embeddings = generate_embeddings(dev_df[\"Review\"].tolist(), embed).numpy()\n",
    "test_embeddings = generate_embeddings(test_df[\"Review\"].tolist(), embed).numpy()"
   ]
  },
  {
   "cell_type": "markdown",
   "metadata": {},
   "source": [
    "## Gaussian Naive Bayes\n",
    "Fit the Gaussian Naive Bayes model to the training data and evaluate."
   ]
  },
  {
   "cell_type": "code",
   "execution_count": 7,
   "metadata": {},
   "outputs": [
    {
     "name": "stdout",
     "output_type": "stream",
     "text": [
      "Accuracy: 0.8168964652795186\n",
      "Precision: 0.9615829984333493\n",
      "Recall: 0.8205172914850334\n",
      "F1: 0.8854669761023646\n"
     ]
    }
   ],
   "source": [
    "# Fit Gaussian Naive Bayes and score predictions\n",
    "gnb = GaussianNB()\n",
    "gnb.fit(train_embeddings, train_df[\"Sentiment\"])\n",
    "dev_predictions = gnb.predict(dev_embeddings)\n",
    "print(\"Accuracy: {}\".format(accuracy_score(dev_df[\"Sentiment\"], dev_predictions)))\n",
    "print(\"Precision: {}\".format(precision_score(dev_df[\"Sentiment\"], dev_predictions)))\n",
    "print(\"Recall: {}\".format(recall_score(dev_df[\"Sentiment\"], dev_predictions)))\n",
    "print(\"F1: {}\".format(f1_score(dev_df[\"Sentiment\"], dev_predictions)))"
   ]
  },
  {
   "cell_type": "markdown",
   "metadata": {},
   "source": [
    "## Support Vector Machine\n",
    "Fit the support vector machine model to the training data and evaluate."
   ]
  },
  {
   "cell_type": "code",
   "execution_count": 8,
   "metadata": {},
   "outputs": [
    {
     "name": "stderr",
     "output_type": "stream",
     "text": [
      "/Users/deanwang/miniconda3/lib/python3.7/site-packages/sklearn/svm/base.py:193: FutureWarning: The default value of gamma will change from 'auto' to 'scale' in version 0.22 to account better for unscaled features. Set gamma explicitly to 'auto' or 'scale' to avoid this warning.\n",
      "  \"avoid this warning.\", FutureWarning)\n"
     ]
    },
    {
     "name": "stdout",
     "output_type": "stream",
     "text": [
      "Accuracy: 0.8626222110804713\n",
      "Precision: 0.8626222110804713\n",
      "Recall: 1.0\n",
      "F1: 0.9262449528936743\n"
     ]
    }
   ],
   "source": [
    "# Fit support vector machine and score predictions\n",
    "svm = SVC()\n",
    "svm.fit(train_embeddings, train_df[\"Sentiment\"])\n",
    "dev_predictions = svm.predict(dev_embeddings)\n",
    "print(\"Accuracy: {}\".format(accuracy_score(dev_df[\"Sentiment\"], dev_predictions)))\n",
    "print(\"Precision: {}\".format(precision_score(dev_df[\"Sentiment\"], dev_predictions)))\n",
    "print(\"Recall: {}\".format(recall_score(dev_df[\"Sentiment\"], dev_predictions)))\n",
    "print(\"F1: {}\".format(f1_score(dev_df[\"Sentiment\"], dev_predictions)))"
   ]
  },
  {
   "cell_type": "code",
   "execution_count": null,
   "metadata": {},
   "outputs": [],
   "source": []
  }
 ],
 "metadata": {
  "kernelspec": {
   "display_name": "Python 3",
   "language": "python",
   "name": "python3"
  },
  "language_info": {
   "codemirror_mode": {
    "name": "ipython",
    "version": 3
   },
   "file_extension": ".py",
   "mimetype": "text/x-python",
   "name": "python",
   "nbconvert_exporter": "python",
   "pygments_lexer": "ipython3",
   "version": "3.7.0"
  }
 },
 "nbformat": 4,
 "nbformat_minor": 2
}
